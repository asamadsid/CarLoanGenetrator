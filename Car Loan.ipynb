{
 "cells": [
  {
   "cell_type": "code",
   "execution_count": 2,
   "id": "bf7ea6d6",
   "metadata": {},
   "outputs": [],
   "source": [
    "import pandas as pd\n",
    "from bs4 import BeautifulSoup\n",
    "import requests\n",
    "import matplotlib.pyplot as plt"
   ]
  },
  {
   "cell_type": "code",
   "execution_count": 3,
   "id": "8ea10d1f",
   "metadata": {},
   "outputs": [],
   "source": [
    "#fetching data\n",
    "url=r'https://www.pakwheels.com/used-cars/search/-/'\n",
    "headers={'User-Agent':'Mozilla/5.0 (Windows NT 10.0; Win64; x64) AppleWebKit/537.36 (KHTML, like Gecko) Chrome/101.0.4951.67 Safari/537.36'}\n",
    "response= requests.get(url, headers=headers)\n",
    "soup = BeautifulSoup(response.text, 'html.parser')\n",
    "Cars= soup.find_all('a',{'class':'car-name ad-detail-path'})\n",
    "prices=soup.find_all('div',{'class':'price-details generic-dark-grey'})"
   ]
  },
  {
   "cell_type": "code",
   "execution_count": 5,
   "id": "edc5335c",
   "metadata": {},
   "outputs": [],
   "source": [
    "#opening file \n",
    "file= r'D:\\Carsdata.xlsx'\n",
    "#Saving data on excel\n",
    "data=[]\n",
    "for i in range(len(Cars)):\n",
    "    carlst=Cars[i].text.replace('for Sale','').strip() #removing extra varables\n",
    "    price=float((prices[i].text.strip().replace('lacs','') if 'lacs' in prices[i].text else prices[i].text.strip().replace('crore','')).replace('PKR','').replace('\\n',''))*100000\n",
    "    data.append([i+1,carlst,price])\n",
    "df= pd.DataFrame(data=data, columns=['S.NO#','CARS','PRICE  IN PKR'])\n",
    "df.to_excel(file)"
   ]
  },
  {
   "cell_type": "code",
   "execution_count": 8,
   "id": "033f1196",
   "metadata": {},
   "outputs": [],
   "source": [
    "#loan Calculator\n",
    "class CarLoan:\n",
    "    def __init__(self,Sno,downpay):\n",
    "        self.Sno=Sno-1\n",
    "        self.downpay=downpay\n",
    "        self.intialprice=float(df.at[self.Sno,\"PRICE  IN PKR\"])\n",
    "    \n",
    "    def calculation(self):\n",
    "        self.loan=(100-self.downpay)/100\n",
    "        self.interest=self.loan/10\n",
    "        self.total=self.loan*self.intialprice+(self.interest*self.intialprice)\n",
    "        self.Chart()\n",
    "    def Chart(self):\n",
    "        #creating chart\n",
    "        loan=self.loan*100\n",
    "        interest=self.interest*100\n",
    "        paying=self.intialprice*(self.downpay/100)\n",
    "        #print(loan, interest)\n",
    "        values=[loan,interest,self.downpay]\n",
    "        label=['Loan' ,'Interest','Amount Paying '+str(paying)]\n",
    "        exp=[0.2,0.1,0]\n",
    "        cl= ['#F67280', '#6C5B7B', '#355C7D']\n",
    "        plt.pie(values, labels=label, explode=exp,autopct='%2.2f%%', colors=cl)\n",
    "        plt.title(\"Total Amount OF CAR RS. {:.2f}\".format(self.total),bbox={'facecolor':'0.9'})\n",
    "        plt.show()"
   ]
  },
  {
   "cell_type": "code",
   "execution_count": 9,
   "id": "615a425f",
   "metadata": {},
   "outputs": [
    {
     "data": {
      "text/html": [
       "<div>\n",
       "<style scoped>\n",
       "    .dataframe tbody tr th:only-of-type {\n",
       "        vertical-align: middle;\n",
       "    }\n",
       "\n",
       "    .dataframe tbody tr th {\n",
       "        vertical-align: top;\n",
       "    }\n",
       "\n",
       "    .dataframe thead th {\n",
       "        text-align: right;\n",
       "    }\n",
       "</style>\n",
       "<table border=\"1\" class=\"dataframe\">\n",
       "  <thead>\n",
       "    <tr style=\"text-align: right;\">\n",
       "      <th></th>\n",
       "      <th>S.NO#</th>\n",
       "      <th>CARS</th>\n",
       "      <th>PRICE  IN PKR</th>\n",
       "    </tr>\n",
       "  </thead>\n",
       "  <tbody>\n",
       "    <tr>\n",
       "      <th>0</th>\n",
       "      <td>1</td>\n",
       "      <td>Toyota C-HR  2017</td>\n",
       "      <td>6700000</td>\n",
       "    </tr>\n",
       "    <tr>\n",
       "      <th>1</th>\n",
       "      <td>2</td>\n",
       "      <td>Nissan Dayz  2019 S</td>\n",
       "      <td>2425000</td>\n",
       "    </tr>\n",
       "    <tr>\n",
       "      <th>2</th>\n",
       "      <td>3</td>\n",
       "      <td>Mercedes Benz E Class  2009 E300</td>\n",
       "      <td>7650000</td>\n",
       "    </tr>\n",
       "    <tr>\n",
       "      <th>3</th>\n",
       "      <td>4</td>\n",
       "      <td>Toyota Corolla  2012 GLi 1.3 VVTi</td>\n",
       "      <td>2050000</td>\n",
       "    </tr>\n",
       "    <tr>\n",
       "      <th>4</th>\n",
       "      <td>5</td>\n",
       "      <td>Honda CR-Z Sports Hybrid  2011 Base Grade (Met...</td>\n",
       "      <td>2800000</td>\n",
       "    </tr>\n",
       "    <tr>\n",
       "      <th>5</th>\n",
       "      <td>6</td>\n",
       "      <td>KIA Sportage  2021 Alpha</td>\n",
       "      <td>5150000</td>\n",
       "    </tr>\n",
       "    <tr>\n",
       "      <th>6</th>\n",
       "      <td>7</td>\n",
       "      <td>Toyota Hilux  2005 D-4D Automatic</td>\n",
       "      <td>4200000</td>\n",
       "    </tr>\n",
       "    <tr>\n",
       "      <th>7</th>\n",
       "      <td>8</td>\n",
       "      <td>Toyota Prado 90 Series 1997 TZ 3.0D</td>\n",
       "      <td>3600000</td>\n",
       "    </tr>\n",
       "    <tr>\n",
       "      <th>8</th>\n",
       "      <td>9</td>\n",
       "      <td>Suzuki Aerio  2011</td>\n",
       "      <td>1700000</td>\n",
       "    </tr>\n",
       "    <tr>\n",
       "      <th>9</th>\n",
       "      <td>10</td>\n",
       "      <td>Honda City  2015 1.3 i-VTEC Prosmatec</td>\n",
       "      <td>2200000</td>\n",
       "    </tr>\n",
       "  </tbody>\n",
       "</table>\n",
       "</div>"
      ],
      "text/plain": [
       "   S.NO#                                               CARS  PRICE  IN PKR\n",
       "0      1                                  Toyota C-HR  2017        6700000\n",
       "1      2                                Nissan Dayz  2019 S        2425000\n",
       "2      3                   Mercedes Benz E Class  2009 E300        7650000\n",
       "3      4                  Toyota Corolla  2012 GLi 1.3 VVTi        2050000\n",
       "4      5  Honda CR-Z Sports Hybrid  2011 Base Grade (Met...        2800000\n",
       "5      6                           KIA Sportage  2021 Alpha        5150000\n",
       "6      7                  Toyota Hilux  2005 D-4D Automatic        4200000\n",
       "7      8                Toyota Prado 90 Series 1997 TZ 3.0D        3600000\n",
       "8      9                                 Suzuki Aerio  2011        1700000\n",
       "9     10              Honda City  2015 1.3 i-VTEC Prosmatec        2200000"
      ]
     },
     "execution_count": 9,
     "metadata": {},
     "output_type": "execute_result"
    }
   ],
   "source": [
    "#displaying data\n",
    "df= pd.read_excel(file, index_col=0)\n",
    "df.head(10)"
   ]
  },
  {
   "cell_type": "code",
   "execution_count": 10,
   "id": "198d0f1b",
   "metadata": {},
   "outputs": [
    {
     "name": "stdout",
     "output_type": "stream",
     "text": [
      "Enter Serial Number of Car(1/30)7\n",
      "Enter The Downpayment=(10-100)% 30\n"
     ]
    },
    {
     "data": {
      "image/png": "[encoded data removed]",
      "text/plain": [
       "<Figure size 432x288 with 1 Axes>"
      ]
     },
     "metadata": {},
     "output_type": "display_data"
    }
   ],
   "source": [
    "#Driver's Code\n",
    "p1=CarLoan(int(input('Enter Serial Number of Car(1/30)')),int(input(\"Enter The Downpayment=(10-100)% \")))\n",
    "p1.calculation()"
   ]
  }
 ],
 "metadata": {
  "kernelspec": {
   "display_name": "Python 3",
   "language": "python",
   "name": "python3"
  },
  "language_info": {
   "codemirror_mode": {
    "name": "ipython",
    "version": 3
   },
   "file_extension": ".py",
   "mimetype": "text/x-python",
   "name": "python",
   "nbconvert_exporter": "python",
   "pygments_lexer": "ipython3",
   "version": "3.8.8"
  }
 },
 "nbformat": 4,
 "nbformat_minor": 5
}
